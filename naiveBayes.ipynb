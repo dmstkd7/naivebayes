{
 "cells": [
  {
   "cell_type": "code",
   "execution_count": 2,
   "metadata": {
    "collapsed": false
   },
   "outputs": [
    {
     "name": "stdout",
     "output_type": "stream",
     "text": [
      "125524\n",
      "<Text: NMSC>\n",
      "[('can', 2657),\n",
      " ('use', 1638),\n",
      " ('s', 827),\n",
      " ('key', 773),\n",
      " ('make', 653),\n",
      " ('way', 647),\n",
      " ('encrypt', 630),\n",
      " ('get', 622),\n",
      " ('differ', 611),\n",
      " ('travel', 548)]\n"
     ]
    }
   ],
   "source": [
    "import pandas as pd\n",
    "\n",
    "def read_data(filename):\n",
    "    returnValue = pd.read_csv(filename)\n",
    "    return returnValue\n",
    "\n",
    "\n",
    "crypto = read_data('crypto.csv')\n",
    "cooking = read_data('cooking.csv')\n",
    "biology = read_data('biology.csv')\n",
    "diy = read_data('diy.csv')\n",
    "robotics = read_data('robotics.csv')\n",
    "travel = read_data('travel.csv')\n",
    "\n",
    "\n",
    "\n",
    "#nltk로 tokenize 하는 것입니다, 글자만 뽑아냅니다\n",
    "from nltk.tokenize import RegexpTokenizer\n",
    "tokenizer = RegexpTokenizer(r'\\w+')\n",
    "\n",
    "#stop word걸러 내기 위한 것\n",
    "from stop_words import get_stop_words\n",
    "en_stop = get_stop_words('en')\n",
    "\n",
    "#stemming\n",
    "from nltk.stem.porter import PorterStemmer\n",
    "p_stemmer = PorterStemmer()\n",
    "\n",
    "\n",
    "\n",
    "def tokenize(doc):\n",
    "    tokens = tokenizer.tokenize(doc.lower())\n",
    "    stem = [i for i in tokens if not i in en_stop]\n",
    "    returnValue = [p_stemmer.stem(i) for i in stem]\n",
    "    return returnValue\n",
    "\n",
    "\n",
    "#tag는 다음과 같이 만든다\n",
    "# crypto ->  0 , cooking ->  1 , biology ->  2 , diy ->  3 , robotics ->  4 , travel ->  5\n",
    "\n",
    "docs_crypto = [(tokenize(row), 0) for row in crypto['title']]\n",
    "docs_cooking = [(tokenize(row), 1) for row in cooking['title']]\n",
    "docs_biology = [(tokenize(row), 2) for row in biology['title']]\n",
    "docs_diy = [(tokenize(row), 3) for row in diy['title']]\n",
    "docs_robotics = [(tokenize(row), 4) for row in robotics['title']]\n",
    "docs_travel = [(tokenize(row), 5) for row in travel['title']]\n",
    "\n",
    "\n",
    "#비율은 일반적으로 80:20 비율로 잡는다\n",
    "train_crypto = docs_crypto[:4000]\n",
    "test_crypto = docs_crypto[4000:5000]\n",
    "\n",
    "train_cooking = docs_cooking[:4000]\n",
    "test_cooking = docs_cooking[4000:5000]\n",
    "\n",
    "train_biology = docs_biology[:4000]\n",
    "test_biology = docs_biology[4000:5000]\n",
    "\n",
    "train_diy = docs_diy[:4000]\n",
    "test_diy = docs_diy[4000:5000]\n",
    "\n",
    "train_robotics = docs_robotics[:2000]\n",
    "test_robotics = docs_robotics[2000:]\n",
    "\n",
    "train_travel = docs_travel[:4000]\n",
    "test_travel = docs_travel[4000:5000]\n",
    "\n",
    "\n",
    "\n",
    "train_data = []\n",
    "test_data = []\n",
    "\n",
    "\n",
    "train_data.extend(train_crypto)\n",
    "train_data.extend(train_cooking)\n",
    "train_data.extend(train_biology)\n",
    "train_data.extend(train_diy)\n",
    "train_data.extend(train_robotics)\n",
    "train_data.extend(train_travel)\n",
    "\n",
    "\n",
    "test_data.extend(test_crypto)\n",
    "test_data.extend(test_cooking)\n",
    "test_data.extend(test_biology)\n",
    "test_data.extend(test_diy)\n",
    "test_data.extend(test_robotics)\n",
    "test_data.extend(test_travel)\n",
    "\n",
    "\n",
    "\n",
    "tokens = [t for d in train_data for t in d[0]]\n",
    "\n",
    "print(len(tokens))\n",
    "\n",
    "\n",
    "import nltk\n",
    "text = nltk.Text(tokens, name=\"NMSC\")\n",
    "print(text)\n",
    "\n",
    "\n",
    "\n",
    "from pprint import pprint\n",
    "pprint(text.vocab().most_common(10))\n",
    "\n",
    "selected_words = [f[0] for f in text.vocab().most_common(3000)]\n",
    "\n",
    "def term_exists(doc):\n",
    "    return {'exists({})'.format(word): (word in set(doc)) for word in selected_words}"
   ]
  },
  {
   "cell_type": "code",
   "execution_count": 3,
   "metadata": {
    "collapsed": true
   },
   "outputs": [],
   "source": [
    "train_xy = [(term_exists(d), c) for d, c in train_data]\n",
    "test_xy = [(term_exists(d), c) for d, c in test_data]"
   ]
  },
  {
   "cell_type": "code",
   "execution_count": 4,
   "metadata": {
    "collapsed": true
   },
   "outputs": [],
   "source": [
    "classifier = nltk.NaiveBayesClassifier.train(train_xy)"
   ]
  },
  {
   "cell_type": "code",
   "execution_count": 5,
   "metadata": {
    "collapsed": false
   },
   "outputs": [
    {
     "name": "stdout",
     "output_type": "stream",
     "text": [
      "0.9123202217986485\n"
     ]
    }
   ],
   "source": [
    "print(nltk.classify.accuracy(classifier, test_xy))"
   ]
  },
  {
   "cell_type": "code",
   "execution_count": 6,
   "metadata": {
    "collapsed": false
   },
   "outputs": [
    {
     "name": "stdout",
     "output_type": "stream",
     "text": [
      "Most Informative Features\n",
      "           exists(robot) = True                4 : 2      =    520.5 : 1.0\n",
      "         exists(encrypt) = True                0 : 2      =    397.0 : 1.0\n",
      "          exists(travel) = True                5 : 1      =    349.0 : 1.0\n",
      "             exists(key) = True                0 : 1      =    271.0 : 1.0\n",
      "           exists(motor) = True                4 : 5      =    261.9 : 1.0\n",
      "            exists(hash) = True                0 : 1      =    243.0 : 1.0\n",
      "             exists(rsa) = True                0 : 5      =    227.0 : 1.0\n",
      "           exists(human) = True                2 : 1      =    200.3 : 1.0\n",
      "          exists(sensor) = True                4 : 2      =    142.0 : 1.0\n",
      "           exists(floor) = True                3 : 2      =    137.0 : 1.0\n"
     ]
    }
   ],
   "source": [
    "classifier.show_most_informative_features(10)"
   ]
  },
  {
   "cell_type": "code",
   "execution_count": null,
   "metadata": {
    "collapsed": true
   },
   "outputs": [],
   "source": []
  }
 ],
 "metadata": {
  "anaconda-cloud": {},
  "kernelspec": {
   "display_name": "Python [conda root]",
   "language": "python",
   "name": "conda-root-py"
  },
  "language_info": {
   "codemirror_mode": {
    "name": "ipython",
    "version": 3
   },
   "file_extension": ".py",
   "mimetype": "text/x-python",
   "name": "python",
   "nbconvert_exporter": "python",
   "pygments_lexer": "ipython3",
   "version": "3.5.2"
  }
 },
 "nbformat": 4,
 "nbformat_minor": 1
}
